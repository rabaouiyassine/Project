{
  "nbformat": 4,
  "nbformat_minor": 0,
  "metadata": {
    "colab": {
      "name": "Projet_datamining_bank.ipynb",
      "provenance": [],
      "collapsed_sections": []
    },
    "kernelspec": {
      "name": "python3",
      "display_name": "Python 3"
    },
    "language_info": {
      "name": "python"
    }
  },
  "cells": [
    {
      "cell_type": "code",
      "execution_count": 1,
      "metadata": {
        "id": "TT3LVtj9ByDw"
      },
      "outputs": [],
      "source": [
        "# Import libraries\n",
        "## Basic libs\n",
        "import pandas as pd\n",
        "import numpy as np\n",
        "import warnings\n",
        "## Data Visualization\n",
        "import seaborn as sns\n",
        "import matplotlib.pyplot as plt\n",
        "\n",
        "# Configure libraries\n",
        "warnings.filterwarnings('ignore')\n",
        "plt.rcParams['figure.figsize'] = (10, 10)\n",
        "plt.style.use('seaborn')"
      ]
    },
    {
      "cell_type": "code",
      "source": [
        "# Load dataset\n",
        "df_bank = pd.read_csv('https://raw.githubusercontent.com/rafiag/DTI2020/main/data/bank.csv')\n",
        "\n",
        "# Drop 'duration' column\n",
        "df_bank = df_bank.drop('duration', axis=1)\n",
        "\n",
        "# print(df_bank.info())\n",
        "print('Shape of dataframe:', df_bank.shape)\n",
        "df_bank.head()"
      ],
      "metadata": {
        "colab": {
          "base_uri": "https://localhost:8080/",
          "height": 223
        },
        "id": "jmzgyvc3BzgC",
        "outputId": "a269fbee-df08-4bdb-ceb3-41c1fb516c20"
      },
      "execution_count": 2,
      "outputs": [
        {
          "output_type": "stream",
          "name": "stdout",
          "text": [
            "Shape of dataframe: (11162, 16)\n"
          ]
        },
        {
          "output_type": "execute_result",
          "data": {
            "text/html": [
              "<div>\n",
              "<style scoped>\n",
              "    .dataframe tbody tr th:only-of-type {\n",
              "        vertical-align: middle;\n",
              "    }\n",
              "\n",
              "    .dataframe tbody tr th {\n",
              "        vertical-align: top;\n",
              "    }\n",
              "\n",
              "    .dataframe thead th {\n",
              "        text-align: right;\n",
              "    }\n",
              "</style>\n",
              "<table border=\"1\" class=\"dataframe\">\n",
              "  <thead>\n",
              "    <tr style=\"text-align: right;\">\n",
              "      <th></th>\n",
              "      <th>age</th>\n",
              "      <th>job</th>\n",
              "      <th>marital</th>\n",
              "      <th>education</th>\n",
              "      <th>default</th>\n",
              "      <th>balance</th>\n",
              "      <th>housing</th>\n",
              "      <th>loan</th>\n",
              "      <th>contact</th>\n",
              "      <th>day</th>\n",
              "      <th>month</th>\n",
              "      <th>campaign</th>\n",
              "      <th>pdays</th>\n",
              "      <th>previous</th>\n",
              "      <th>poutcome</th>\n",
              "      <th>deposit</th>\n",
              "    </tr>\n",
              "  </thead>\n",
              "  <tbody>\n",
              "    <tr>\n",
              "      <th>0</th>\n",
              "      <td>59</td>\n",
              "      <td>admin.</td>\n",
              "      <td>married</td>\n",
              "      <td>secondary</td>\n",
              "      <td>no</td>\n",
              "      <td>2343</td>\n",
              "      <td>yes</td>\n",
              "      <td>no</td>\n",
              "      <td>unknown</td>\n",
              "      <td>5</td>\n",
              "      <td>may</td>\n",
              "      <td>1</td>\n",
              "      <td>-1</td>\n",
              "      <td>0</td>\n",
              "      <td>unknown</td>\n",
              "      <td>yes</td>\n",
              "    </tr>\n",
              "    <tr>\n",
              "      <th>1</th>\n",
              "      <td>56</td>\n",
              "      <td>admin.</td>\n",
              "      <td>married</td>\n",
              "      <td>secondary</td>\n",
              "      <td>no</td>\n",
              "      <td>45</td>\n",
              "      <td>no</td>\n",
              "      <td>no</td>\n",
              "      <td>unknown</td>\n",
              "      <td>5</td>\n",
              "      <td>may</td>\n",
              "      <td>1</td>\n",
              "      <td>-1</td>\n",
              "      <td>0</td>\n",
              "      <td>unknown</td>\n",
              "      <td>yes</td>\n",
              "    </tr>\n",
              "    <tr>\n",
              "      <th>2</th>\n",
              "      <td>41</td>\n",
              "      <td>technician</td>\n",
              "      <td>married</td>\n",
              "      <td>secondary</td>\n",
              "      <td>no</td>\n",
              "      <td>1270</td>\n",
              "      <td>yes</td>\n",
              "      <td>no</td>\n",
              "      <td>unknown</td>\n",
              "      <td>5</td>\n",
              "      <td>may</td>\n",
              "      <td>1</td>\n",
              "      <td>-1</td>\n",
              "      <td>0</td>\n",
              "      <td>unknown</td>\n",
              "      <td>yes</td>\n",
              "    </tr>\n",
              "    <tr>\n",
              "      <th>3</th>\n",
              "      <td>55</td>\n",
              "      <td>services</td>\n",
              "      <td>married</td>\n",
              "      <td>secondary</td>\n",
              "      <td>no</td>\n",
              "      <td>2476</td>\n",
              "      <td>yes</td>\n",
              "      <td>no</td>\n",
              "      <td>unknown</td>\n",
              "      <td>5</td>\n",
              "      <td>may</td>\n",
              "      <td>1</td>\n",
              "      <td>-1</td>\n",
              "      <td>0</td>\n",
              "      <td>unknown</td>\n",
              "      <td>yes</td>\n",
              "    </tr>\n",
              "    <tr>\n",
              "      <th>4</th>\n",
              "      <td>54</td>\n",
              "      <td>admin.</td>\n",
              "      <td>married</td>\n",
              "      <td>tertiary</td>\n",
              "      <td>no</td>\n",
              "      <td>184</td>\n",
              "      <td>no</td>\n",
              "      <td>no</td>\n",
              "      <td>unknown</td>\n",
              "      <td>5</td>\n",
              "      <td>may</td>\n",
              "      <td>2</td>\n",
              "      <td>-1</td>\n",
              "      <td>0</td>\n",
              "      <td>unknown</td>\n",
              "      <td>yes</td>\n",
              "    </tr>\n",
              "  </tbody>\n",
              "</table>\n",
              "</div>"
            ],
            "text/plain": [
              "   age         job  marital  education  ... pdays  previous poutcome deposit\n",
              "0   59      admin.  married  secondary  ...    -1         0  unknown     yes\n",
              "1   56      admin.  married  secondary  ...    -1         0  unknown     yes\n",
              "2   41  technician  married  secondary  ...    -1         0  unknown     yes\n",
              "3   55    services  married  secondary  ...    -1         0  unknown     yes\n",
              "4   54      admin.  married   tertiary  ...    -1         0  unknown     yes\n",
              "\n",
              "[5 rows x 16 columns]"
            ]
          },
          "metadata": {},
          "execution_count": 2
        }
      ]
    },
    {
      "cell_type": "code",
      "source": [
        "df_bank['deposit'].value_counts() # variable target "
      ],
      "metadata": {
        "colab": {
          "base_uri": "https://localhost:8080/"
        },
        "id": "UQD1tlZTB21j",
        "outputId": "dc7a3ead-fd2a-4196-d936-b1d0a4fee5cb"
      },
      "execution_count": 3,
      "outputs": [
        {
          "output_type": "execute_result",
          "data": {
            "text/plain": [
              "no     5873\n",
              "yes    5289\n",
              "Name: deposit, dtype: int64"
            ]
          },
          "metadata": {},
          "execution_count": 3
        }
      ]
    },
    {
      "cell_type": "code",
      "source": [
        "df_bank.isnull().sum() # vérifier s'il existe des valeurs nulles"
      ],
      "metadata": {
        "colab": {
          "base_uri": "https://localhost:8080/"
        },
        "id": "2dVgSVU9B6gS",
        "outputId": "d95622c6-cf06-40f9-9172-361f89202b73"
      },
      "execution_count": 4,
      "outputs": [
        {
          "output_type": "execute_result",
          "data": {
            "text/plain": [
              "age          0\n",
              "job          0\n",
              "marital      0\n",
              "education    0\n",
              "default      0\n",
              "balance      0\n",
              "housing      0\n",
              "loan         0\n",
              "contact      0\n",
              "day          0\n",
              "month        0\n",
              "campaign     0\n",
              "pdays        0\n",
              "previous     0\n",
              "poutcome     0\n",
              "deposit      0\n",
              "dtype: int64"
            ]
          },
          "metadata": {},
          "execution_count": 4
        }
      ]
    },
    {
      "cell_type": "code",
      "source": [
        "#Scale Numeric Data\n",
        "#Next up, we will scale our numerical data to avoid outlier presence that can significantly affect our model. \n",
        "#Using StandardScaler() function from sklearn we can scale each our columns that contains numerical data. \n",
        "\n",
        "\n",
        "\n",
        "from sklearn.preprocessing import StandardScaler\n",
        "\n",
        "# Copying original dataframe\n",
        "df_bank_ready = df_bank.copy()\n",
        "\n",
        "scaler = StandardScaler()\n",
        "num_cols = ['age', 'balance', 'day', 'campaign', 'pdays', 'previous']\n",
        "df_bank_ready[num_cols] = scaler.fit_transform(df_bank_ready[num_cols])\n",
        "\n",
        "df_bank_ready.head()"
      ],
      "metadata": {
        "colab": {
          "base_uri": "https://localhost:8080/",
          "height": 206
        },
        "id": "FtO5cTFXB8KU",
        "outputId": "1911b6cc-e4cc-430d-f688-a019f98b1747"
      },
      "execution_count": 5,
      "outputs": [
        {
          "output_type": "execute_result",
          "data": {
            "text/html": [
              "<div>\n",
              "<style scoped>\n",
              "    .dataframe tbody tr th:only-of-type {\n",
              "        vertical-align: middle;\n",
              "    }\n",
              "\n",
              "    .dataframe tbody tr th {\n",
              "        vertical-align: top;\n",
              "    }\n",
              "\n",
              "    .dataframe thead th {\n",
              "        text-align: right;\n",
              "    }\n",
              "</style>\n",
              "<table border=\"1\" class=\"dataframe\">\n",
              "  <thead>\n",
              "    <tr style=\"text-align: right;\">\n",
              "      <th></th>\n",
              "      <th>age</th>\n",
              "      <th>job</th>\n",
              "      <th>marital</th>\n",
              "      <th>education</th>\n",
              "      <th>default</th>\n",
              "      <th>balance</th>\n",
              "      <th>housing</th>\n",
              "      <th>loan</th>\n",
              "      <th>contact</th>\n",
              "      <th>day</th>\n",
              "      <th>month</th>\n",
              "      <th>campaign</th>\n",
              "      <th>pdays</th>\n",
              "      <th>previous</th>\n",
              "      <th>poutcome</th>\n",
              "      <th>deposit</th>\n",
              "    </tr>\n",
              "  </thead>\n",
              "  <tbody>\n",
              "    <tr>\n",
              "      <th>0</th>\n",
              "      <td>1.491505</td>\n",
              "      <td>admin.</td>\n",
              "      <td>married</td>\n",
              "      <td>secondary</td>\n",
              "      <td>no</td>\n",
              "      <td>0.252525</td>\n",
              "      <td>yes</td>\n",
              "      <td>no</td>\n",
              "      <td>unknown</td>\n",
              "      <td>-1.265746</td>\n",
              "      <td>may</td>\n",
              "      <td>-0.554168</td>\n",
              "      <td>-0.481184</td>\n",
              "      <td>-0.36326</td>\n",
              "      <td>unknown</td>\n",
              "      <td>yes</td>\n",
              "    </tr>\n",
              "    <tr>\n",
              "      <th>1</th>\n",
              "      <td>1.239676</td>\n",
              "      <td>admin.</td>\n",
              "      <td>married</td>\n",
              "      <td>secondary</td>\n",
              "      <td>no</td>\n",
              "      <td>-0.459974</td>\n",
              "      <td>no</td>\n",
              "      <td>no</td>\n",
              "      <td>unknown</td>\n",
              "      <td>-1.265746</td>\n",
              "      <td>may</td>\n",
              "      <td>-0.554168</td>\n",
              "      <td>-0.481184</td>\n",
              "      <td>-0.36326</td>\n",
              "      <td>unknown</td>\n",
              "      <td>yes</td>\n",
              "    </tr>\n",
              "    <tr>\n",
              "      <th>2</th>\n",
              "      <td>-0.019470</td>\n",
              "      <td>technician</td>\n",
              "      <td>married</td>\n",
              "      <td>secondary</td>\n",
              "      <td>no</td>\n",
              "      <td>-0.080160</td>\n",
              "      <td>yes</td>\n",
              "      <td>no</td>\n",
              "      <td>unknown</td>\n",
              "      <td>-1.265746</td>\n",
              "      <td>may</td>\n",
              "      <td>-0.554168</td>\n",
              "      <td>-0.481184</td>\n",
              "      <td>-0.36326</td>\n",
              "      <td>unknown</td>\n",
              "      <td>yes</td>\n",
              "    </tr>\n",
              "    <tr>\n",
              "      <th>3</th>\n",
              "      <td>1.155733</td>\n",
              "      <td>services</td>\n",
              "      <td>married</td>\n",
              "      <td>secondary</td>\n",
              "      <td>no</td>\n",
              "      <td>0.293762</td>\n",
              "      <td>yes</td>\n",
              "      <td>no</td>\n",
              "      <td>unknown</td>\n",
              "      <td>-1.265746</td>\n",
              "      <td>may</td>\n",
              "      <td>-0.554168</td>\n",
              "      <td>-0.481184</td>\n",
              "      <td>-0.36326</td>\n",
              "      <td>unknown</td>\n",
              "      <td>yes</td>\n",
              "    </tr>\n",
              "    <tr>\n",
              "      <th>4</th>\n",
              "      <td>1.071790</td>\n",
              "      <td>admin.</td>\n",
              "      <td>married</td>\n",
              "      <td>tertiary</td>\n",
              "      <td>no</td>\n",
              "      <td>-0.416876</td>\n",
              "      <td>no</td>\n",
              "      <td>no</td>\n",
              "      <td>unknown</td>\n",
              "      <td>-1.265746</td>\n",
              "      <td>may</td>\n",
              "      <td>-0.186785</td>\n",
              "      <td>-0.481184</td>\n",
              "      <td>-0.36326</td>\n",
              "      <td>unknown</td>\n",
              "      <td>yes</td>\n",
              "    </tr>\n",
              "  </tbody>\n",
              "</table>\n",
              "</div>"
            ],
            "text/plain": [
              "        age         job  marital  ... previous poutcome  deposit\n",
              "0  1.491505      admin.  married  ... -0.36326  unknown      yes\n",
              "1  1.239676      admin.  married  ... -0.36326  unknown      yes\n",
              "2 -0.019470  technician  married  ... -0.36326  unknown      yes\n",
              "3  1.155733    services  married  ... -0.36326  unknown      yes\n",
              "4  1.071790      admin.  married  ... -0.36326  unknown      yes\n",
              "\n",
              "[5 rows x 16 columns]"
            ]
          },
          "metadata": {},
          "execution_count": 5
        }
      ]
    },
    {
      "cell_type": "code",
      "source": [
        "from sklearn.preprocessing import OneHotEncoder\n",
        "\n",
        "encoder = OneHotEncoder(sparse=False)\n",
        "cat_cols = ['job', 'marital', 'education', 'default', 'housing', 'loan', 'contact', 'month', 'poutcome']\n",
        "\n",
        "# Encode Categorical Data\n",
        "df_encoded = pd.DataFrame(encoder.fit_transform(df_bank_ready[cat_cols]))\n",
        "df_encoded.columns = encoder.get_feature_names(cat_cols)\n",
        "\n",
        "# Replace Categotical Data with Encoded Data\n",
        "df_bank_ready = df_bank_ready.drop(cat_cols ,axis=1)\n",
        "df_bank_ready = pd.concat([df_encoded, df_bank_ready], axis=1)\n",
        "\n",
        "# Encode target value\n",
        "df_bank_ready['deposit'] = df_bank_ready['deposit'].apply(lambda x: 1 if x == 'yes' else 0)\n",
        "\n",
        "print('Shape of dataframe:', df_bank_ready.shape)\n",
        "df_bank_ready.head(10)"
      ],
      "metadata": {
        "colab": {
          "base_uri": "https://localhost:8080/",
          "height": 418
        },
        "id": "4vvsYVDICDgw",
        "outputId": "07734581-d584-47da-cf82-ba442d8597f3"
      },
      "execution_count": 6,
      "outputs": [
        {
          "output_type": "stream",
          "name": "stdout",
          "text": [
            "Shape of dataframe: (11162, 51)\n"
          ]
        },
        {
          "output_type": "execute_result",
          "data": {
            "text/html": [
              "<div>\n",
              "<style scoped>\n",
              "    .dataframe tbody tr th:only-of-type {\n",
              "        vertical-align: middle;\n",
              "    }\n",
              "\n",
              "    .dataframe tbody tr th {\n",
              "        vertical-align: top;\n",
              "    }\n",
              "\n",
              "    .dataframe thead th {\n",
              "        text-align: right;\n",
              "    }\n",
              "</style>\n",
              "<table border=\"1\" class=\"dataframe\">\n",
              "  <thead>\n",
              "    <tr style=\"text-align: right;\">\n",
              "      <th></th>\n",
              "      <th>job_admin.</th>\n",
              "      <th>job_blue-collar</th>\n",
              "      <th>job_entrepreneur</th>\n",
              "      <th>job_housemaid</th>\n",
              "      <th>job_management</th>\n",
              "      <th>job_retired</th>\n",
              "      <th>job_self-employed</th>\n",
              "      <th>job_services</th>\n",
              "      <th>job_student</th>\n",
              "      <th>job_technician</th>\n",
              "      <th>job_unemployed</th>\n",
              "      <th>job_unknown</th>\n",
              "      <th>marital_divorced</th>\n",
              "      <th>marital_married</th>\n",
              "      <th>marital_single</th>\n",
              "      <th>education_primary</th>\n",
              "      <th>education_secondary</th>\n",
              "      <th>education_tertiary</th>\n",
              "      <th>education_unknown</th>\n",
              "      <th>default_no</th>\n",
              "      <th>default_yes</th>\n",
              "      <th>housing_no</th>\n",
              "      <th>housing_yes</th>\n",
              "      <th>loan_no</th>\n",
              "      <th>loan_yes</th>\n",
              "      <th>contact_cellular</th>\n",
              "      <th>contact_telephone</th>\n",
              "      <th>contact_unknown</th>\n",
              "      <th>month_apr</th>\n",
              "      <th>month_aug</th>\n",
              "      <th>month_dec</th>\n",
              "      <th>month_feb</th>\n",
              "      <th>month_jan</th>\n",
              "      <th>month_jul</th>\n",
              "      <th>month_jun</th>\n",
              "      <th>month_mar</th>\n",
              "      <th>month_may</th>\n",
              "      <th>month_nov</th>\n",
              "      <th>month_oct</th>\n",
              "      <th>month_sep</th>\n",
              "      <th>poutcome_failure</th>\n",
              "      <th>poutcome_other</th>\n",
              "      <th>poutcome_success</th>\n",
              "      <th>poutcome_unknown</th>\n",
              "      <th>age</th>\n",
              "      <th>balance</th>\n",
              "      <th>day</th>\n",
              "      <th>campaign</th>\n",
              "      <th>pdays</th>\n",
              "      <th>previous</th>\n",
              "      <th>deposit</th>\n",
              "    </tr>\n",
              "  </thead>\n",
              "  <tbody>\n",
              "    <tr>\n",
              "      <th>0</th>\n",
              "      <td>1.0</td>\n",
              "      <td>0.0</td>\n",
              "      <td>0.0</td>\n",
              "      <td>0.0</td>\n",
              "      <td>0.0</td>\n",
              "      <td>0.0</td>\n",
              "      <td>0.0</td>\n",
              "      <td>0.0</td>\n",
              "      <td>0.0</td>\n",
              "      <td>0.0</td>\n",
              "      <td>0.0</td>\n",
              "      <td>0.0</td>\n",
              "      <td>0.0</td>\n",
              "      <td>1.0</td>\n",
              "      <td>0.0</td>\n",
              "      <td>0.0</td>\n",
              "      <td>1.0</td>\n",
              "      <td>0.0</td>\n",
              "      <td>0.0</td>\n",
              "      <td>1.0</td>\n",
              "      <td>0.0</td>\n",
              "      <td>0.0</td>\n",
              "      <td>1.0</td>\n",
              "      <td>1.0</td>\n",
              "      <td>0.0</td>\n",
              "      <td>0.0</td>\n",
              "      <td>0.0</td>\n",
              "      <td>1.0</td>\n",
              "      <td>0.0</td>\n",
              "      <td>0.0</td>\n",
              "      <td>0.0</td>\n",
              "      <td>0.0</td>\n",
              "      <td>0.0</td>\n",
              "      <td>0.0</td>\n",
              "      <td>0.0</td>\n",
              "      <td>0.0</td>\n",
              "      <td>1.0</td>\n",
              "      <td>0.0</td>\n",
              "      <td>0.0</td>\n",
              "      <td>0.0</td>\n",
              "      <td>0.0</td>\n",
              "      <td>0.0</td>\n",
              "      <td>0.0</td>\n",
              "      <td>1.0</td>\n",
              "      <td>1.491505</td>\n",
              "      <td>0.252525</td>\n",
              "      <td>-1.265746</td>\n",
              "      <td>-0.554168</td>\n",
              "      <td>-0.481184</td>\n",
              "      <td>-0.36326</td>\n",
              "      <td>1</td>\n",
              "    </tr>\n",
              "    <tr>\n",
              "      <th>1</th>\n",
              "      <td>1.0</td>\n",
              "      <td>0.0</td>\n",
              "      <td>0.0</td>\n",
              "      <td>0.0</td>\n",
              "      <td>0.0</td>\n",
              "      <td>0.0</td>\n",
              "      <td>0.0</td>\n",
              "      <td>0.0</td>\n",
              "      <td>0.0</td>\n",
              "      <td>0.0</td>\n",
              "      <td>0.0</td>\n",
              "      <td>0.0</td>\n",
              "      <td>0.0</td>\n",
              "      <td>1.0</td>\n",
              "      <td>0.0</td>\n",
              "      <td>0.0</td>\n",
              "      <td>1.0</td>\n",
              "      <td>0.0</td>\n",
              "      <td>0.0</td>\n",
              "      <td>1.0</td>\n",
              "      <td>0.0</td>\n",
              "      <td>1.0</td>\n",
              "      <td>0.0</td>\n",
              "      <td>1.0</td>\n",
              "      <td>0.0</td>\n",
              "      <td>0.0</td>\n",
              "      <td>0.0</td>\n",
              "      <td>1.0</td>\n",
              "      <td>0.0</td>\n",
              "      <td>0.0</td>\n",
              "      <td>0.0</td>\n",
              "      <td>0.0</td>\n",
              "      <td>0.0</td>\n",
              "      <td>0.0</td>\n",
              "      <td>0.0</td>\n",
              "      <td>0.0</td>\n",
              "      <td>1.0</td>\n",
              "      <td>0.0</td>\n",
              "      <td>0.0</td>\n",
              "      <td>0.0</td>\n",
              "      <td>0.0</td>\n",
              "      <td>0.0</td>\n",
              "      <td>0.0</td>\n",
              "      <td>1.0</td>\n",
              "      <td>1.239676</td>\n",
              "      <td>-0.459974</td>\n",
              "      <td>-1.265746</td>\n",
              "      <td>-0.554168</td>\n",
              "      <td>-0.481184</td>\n",
              "      <td>-0.36326</td>\n",
              "      <td>1</td>\n",
              "    </tr>\n",
              "    <tr>\n",
              "      <th>2</th>\n",
              "      <td>0.0</td>\n",
              "      <td>0.0</td>\n",
              "      <td>0.0</td>\n",
              "      <td>0.0</td>\n",
              "      <td>0.0</td>\n",
              "      <td>0.0</td>\n",
              "      <td>0.0</td>\n",
              "      <td>0.0</td>\n",
              "      <td>0.0</td>\n",
              "      <td>1.0</td>\n",
              "      <td>0.0</td>\n",
              "      <td>0.0</td>\n",
              "      <td>0.0</td>\n",
              "      <td>1.0</td>\n",
              "      <td>0.0</td>\n",
              "      <td>0.0</td>\n",
              "      <td>1.0</td>\n",
              "      <td>0.0</td>\n",
              "      <td>0.0</td>\n",
              "      <td>1.0</td>\n",
              "      <td>0.0</td>\n",
              "      <td>0.0</td>\n",
              "      <td>1.0</td>\n",
              "      <td>1.0</td>\n",
              "      <td>0.0</td>\n",
              "      <td>0.0</td>\n",
              "      <td>0.0</td>\n",
              "      <td>1.0</td>\n",
              "      <td>0.0</td>\n",
              "      <td>0.0</td>\n",
              "      <td>0.0</td>\n",
              "      <td>0.0</td>\n",
              "      <td>0.0</td>\n",
              "      <td>0.0</td>\n",
              "      <td>0.0</td>\n",
              "      <td>0.0</td>\n",
              "      <td>1.0</td>\n",
              "      <td>0.0</td>\n",
              "      <td>0.0</td>\n",
              "      <td>0.0</td>\n",
              "      <td>0.0</td>\n",
              "      <td>0.0</td>\n",
              "      <td>0.0</td>\n",
              "      <td>1.0</td>\n",
              "      <td>-0.019470</td>\n",
              "      <td>-0.080160</td>\n",
              "      <td>-1.265746</td>\n",
              "      <td>-0.554168</td>\n",
              "      <td>-0.481184</td>\n",
              "      <td>-0.36326</td>\n",
              "      <td>1</td>\n",
              "    </tr>\n",
              "    <tr>\n",
              "      <th>3</th>\n",
              "      <td>0.0</td>\n",
              "      <td>0.0</td>\n",
              "      <td>0.0</td>\n",
              "      <td>0.0</td>\n",
              "      <td>0.0</td>\n",
              "      <td>0.0</td>\n",
              "      <td>0.0</td>\n",
              "      <td>1.0</td>\n",
              "      <td>0.0</td>\n",
              "      <td>0.0</td>\n",
              "      <td>0.0</td>\n",
              "      <td>0.0</td>\n",
              "      <td>0.0</td>\n",
              "      <td>1.0</td>\n",
              "      <td>0.0</td>\n",
              "      <td>0.0</td>\n",
              "      <td>1.0</td>\n",
              "      <td>0.0</td>\n",
              "      <td>0.0</td>\n",
              "      <td>1.0</td>\n",
              "      <td>0.0</td>\n",
              "      <td>0.0</td>\n",
              "      <td>1.0</td>\n",
              "      <td>1.0</td>\n",
              "      <td>0.0</td>\n",
              "      <td>0.0</td>\n",
              "      <td>0.0</td>\n",
              "      <td>1.0</td>\n",
              "      <td>0.0</td>\n",
              "      <td>0.0</td>\n",
              "      <td>0.0</td>\n",
              "      <td>0.0</td>\n",
              "      <td>0.0</td>\n",
              "      <td>0.0</td>\n",
              "      <td>0.0</td>\n",
              "      <td>0.0</td>\n",
              "      <td>1.0</td>\n",
              "      <td>0.0</td>\n",
              "      <td>0.0</td>\n",
              "      <td>0.0</td>\n",
              "      <td>0.0</td>\n",
              "      <td>0.0</td>\n",
              "      <td>0.0</td>\n",
              "      <td>1.0</td>\n",
              "      <td>1.155733</td>\n",
              "      <td>0.293762</td>\n",
              "      <td>-1.265746</td>\n",
              "      <td>-0.554168</td>\n",
              "      <td>-0.481184</td>\n",
              "      <td>-0.36326</td>\n",
              "      <td>1</td>\n",
              "    </tr>\n",
              "    <tr>\n",
              "      <th>4</th>\n",
              "      <td>1.0</td>\n",
              "      <td>0.0</td>\n",
              "      <td>0.0</td>\n",
              "      <td>0.0</td>\n",
              "      <td>0.0</td>\n",
              "      <td>0.0</td>\n",
              "      <td>0.0</td>\n",
              "      <td>0.0</td>\n",
              "      <td>0.0</td>\n",
              "      <td>0.0</td>\n",
              "      <td>0.0</td>\n",
              "      <td>0.0</td>\n",
              "      <td>0.0</td>\n",
              "      <td>1.0</td>\n",
              "      <td>0.0</td>\n",
              "      <td>0.0</td>\n",
              "      <td>0.0</td>\n",
              "      <td>1.0</td>\n",
              "      <td>0.0</td>\n",
              "      <td>1.0</td>\n",
              "      <td>0.0</td>\n",
              "      <td>1.0</td>\n",
              "      <td>0.0</td>\n",
              "      <td>1.0</td>\n",
              "      <td>0.0</td>\n",
              "      <td>0.0</td>\n",
              "      <td>0.0</td>\n",
              "      <td>1.0</td>\n",
              "      <td>0.0</td>\n",
              "      <td>0.0</td>\n",
              "      <td>0.0</td>\n",
              "      <td>0.0</td>\n",
              "      <td>0.0</td>\n",
              "      <td>0.0</td>\n",
              "      <td>0.0</td>\n",
              "      <td>0.0</td>\n",
              "      <td>1.0</td>\n",
              "      <td>0.0</td>\n",
              "      <td>0.0</td>\n",
              "      <td>0.0</td>\n",
              "      <td>0.0</td>\n",
              "      <td>0.0</td>\n",
              "      <td>0.0</td>\n",
              "      <td>1.0</td>\n",
              "      <td>1.071790</td>\n",
              "      <td>-0.416876</td>\n",
              "      <td>-1.265746</td>\n",
              "      <td>-0.186785</td>\n",
              "      <td>-0.481184</td>\n",
              "      <td>-0.36326</td>\n",
              "      <td>1</td>\n",
              "    </tr>\n",
              "    <tr>\n",
              "      <th>5</th>\n",
              "      <td>0.0</td>\n",
              "      <td>0.0</td>\n",
              "      <td>0.0</td>\n",
              "      <td>0.0</td>\n",
              "      <td>1.0</td>\n",
              "      <td>0.0</td>\n",
              "      <td>0.0</td>\n",
              "      <td>0.0</td>\n",
              "      <td>0.0</td>\n",
              "      <td>0.0</td>\n",
              "      <td>0.0</td>\n",
              "      <td>0.0</td>\n",
              "      <td>0.0</td>\n",
              "      <td>0.0</td>\n",
              "      <td>1.0</td>\n",
              "      <td>0.0</td>\n",
              "      <td>0.0</td>\n",
              "      <td>1.0</td>\n",
              "      <td>0.0</td>\n",
              "      <td>1.0</td>\n",
              "      <td>0.0</td>\n",
              "      <td>0.0</td>\n",
              "      <td>1.0</td>\n",
              "      <td>0.0</td>\n",
              "      <td>1.0</td>\n",
              "      <td>0.0</td>\n",
              "      <td>0.0</td>\n",
              "      <td>1.0</td>\n",
              "      <td>0.0</td>\n",
              "      <td>0.0</td>\n",
              "      <td>0.0</td>\n",
              "      <td>0.0</td>\n",
              "      <td>0.0</td>\n",
              "      <td>0.0</td>\n",
              "      <td>0.0</td>\n",
              "      <td>0.0</td>\n",
              "      <td>1.0</td>\n",
              "      <td>0.0</td>\n",
              "      <td>0.0</td>\n",
              "      <td>0.0</td>\n",
              "      <td>0.0</td>\n",
              "      <td>0.0</td>\n",
              "      <td>0.0</td>\n",
              "      <td>1.0</td>\n",
              "      <td>0.064473</td>\n",
              "      <td>-0.473926</td>\n",
              "      <td>-1.265746</td>\n",
              "      <td>-0.186785</td>\n",
              "      <td>-0.481184</td>\n",
              "      <td>-0.36326</td>\n",
              "      <td>1</td>\n",
              "    </tr>\n",
              "    <tr>\n",
              "      <th>6</th>\n",
              "      <td>0.0</td>\n",
              "      <td>0.0</td>\n",
              "      <td>0.0</td>\n",
              "      <td>0.0</td>\n",
              "      <td>1.0</td>\n",
              "      <td>0.0</td>\n",
              "      <td>0.0</td>\n",
              "      <td>0.0</td>\n",
              "      <td>0.0</td>\n",
              "      <td>0.0</td>\n",
              "      <td>0.0</td>\n",
              "      <td>0.0</td>\n",
              "      <td>0.0</td>\n",
              "      <td>1.0</td>\n",
              "      <td>0.0</td>\n",
              "      <td>0.0</td>\n",
              "      <td>0.0</td>\n",
              "      <td>1.0</td>\n",
              "      <td>0.0</td>\n",
              "      <td>1.0</td>\n",
              "      <td>0.0</td>\n",
              "      <td>0.0</td>\n",
              "      <td>1.0</td>\n",
              "      <td>0.0</td>\n",
              "      <td>1.0</td>\n",
              "      <td>0.0</td>\n",
              "      <td>0.0</td>\n",
              "      <td>1.0</td>\n",
              "      <td>0.0</td>\n",
              "      <td>0.0</td>\n",
              "      <td>0.0</td>\n",
              "      <td>0.0</td>\n",
              "      <td>0.0</td>\n",
              "      <td>0.0</td>\n",
              "      <td>0.0</td>\n",
              "      <td>0.0</td>\n",
              "      <td>1.0</td>\n",
              "      <td>0.0</td>\n",
              "      <td>0.0</td>\n",
              "      <td>0.0</td>\n",
              "      <td>0.0</td>\n",
              "      <td>0.0</td>\n",
              "      <td>0.0</td>\n",
              "      <td>1.0</td>\n",
              "      <td>1.239676</td>\n",
              "      <td>-0.216583</td>\n",
              "      <td>-1.146986</td>\n",
              "      <td>-0.554168</td>\n",
              "      <td>-0.481184</td>\n",
              "      <td>-0.36326</td>\n",
              "      <td>1</td>\n",
              "    </tr>\n",
              "    <tr>\n",
              "      <th>7</th>\n",
              "      <td>0.0</td>\n",
              "      <td>0.0</td>\n",
              "      <td>0.0</td>\n",
              "      <td>0.0</td>\n",
              "      <td>0.0</td>\n",
              "      <td>1.0</td>\n",
              "      <td>0.0</td>\n",
              "      <td>0.0</td>\n",
              "      <td>0.0</td>\n",
              "      <td>0.0</td>\n",
              "      <td>0.0</td>\n",
              "      <td>0.0</td>\n",
              "      <td>1.0</td>\n",
              "      <td>0.0</td>\n",
              "      <td>0.0</td>\n",
              "      <td>0.0</td>\n",
              "      <td>1.0</td>\n",
              "      <td>0.0</td>\n",
              "      <td>0.0</td>\n",
              "      <td>1.0</td>\n",
              "      <td>0.0</td>\n",
              "      <td>0.0</td>\n",
              "      <td>1.0</td>\n",
              "      <td>1.0</td>\n",
              "      <td>0.0</td>\n",
              "      <td>0.0</td>\n",
              "      <td>0.0</td>\n",
              "      <td>1.0</td>\n",
              "      <td>0.0</td>\n",
              "      <td>0.0</td>\n",
              "      <td>0.0</td>\n",
              "      <td>0.0</td>\n",
              "      <td>0.0</td>\n",
              "      <td>0.0</td>\n",
              "      <td>0.0</td>\n",
              "      <td>0.0</td>\n",
              "      <td>1.0</td>\n",
              "      <td>0.0</td>\n",
              "      <td>0.0</td>\n",
              "      <td>0.0</td>\n",
              "      <td>0.0</td>\n",
              "      <td>0.0</td>\n",
              "      <td>0.0</td>\n",
              "      <td>1.0</td>\n",
              "      <td>1.575448</td>\n",
              "      <td>-0.304948</td>\n",
              "      <td>-1.146986</td>\n",
              "      <td>-0.554168</td>\n",
              "      <td>-0.481184</td>\n",
              "      <td>-0.36326</td>\n",
              "      <td>1</td>\n",
              "    </tr>\n",
              "    <tr>\n",
              "      <th>8</th>\n",
              "      <td>0.0</td>\n",
              "      <td>0.0</td>\n",
              "      <td>0.0</td>\n",
              "      <td>0.0</td>\n",
              "      <td>0.0</td>\n",
              "      <td>0.0</td>\n",
              "      <td>0.0</td>\n",
              "      <td>0.0</td>\n",
              "      <td>0.0</td>\n",
              "      <td>1.0</td>\n",
              "      <td>0.0</td>\n",
              "      <td>0.0</td>\n",
              "      <td>0.0</td>\n",
              "      <td>1.0</td>\n",
              "      <td>0.0</td>\n",
              "      <td>0.0</td>\n",
              "      <td>1.0</td>\n",
              "      <td>0.0</td>\n",
              "      <td>0.0</td>\n",
              "      <td>1.0</td>\n",
              "      <td>0.0</td>\n",
              "      <td>0.0</td>\n",
              "      <td>1.0</td>\n",
              "      <td>1.0</td>\n",
              "      <td>0.0</td>\n",
              "      <td>0.0</td>\n",
              "      <td>0.0</td>\n",
              "      <td>1.0</td>\n",
              "      <td>0.0</td>\n",
              "      <td>0.0</td>\n",
              "      <td>0.0</td>\n",
              "      <td>0.0</td>\n",
              "      <td>0.0</td>\n",
              "      <td>0.0</td>\n",
              "      <td>0.0</td>\n",
              "      <td>0.0</td>\n",
              "      <td>1.0</td>\n",
              "      <td>0.0</td>\n",
              "      <td>0.0</td>\n",
              "      <td>0.0</td>\n",
              "      <td>0.0</td>\n",
              "      <td>0.0</td>\n",
              "      <td>0.0</td>\n",
              "      <td>1.0</td>\n",
              "      <td>-0.355243</td>\n",
              "      <td>-0.473616</td>\n",
              "      <td>-1.146986</td>\n",
              "      <td>-0.554168</td>\n",
              "      <td>-0.481184</td>\n",
              "      <td>-0.36326</td>\n",
              "      <td>1</td>\n",
              "    </tr>\n",
              "    <tr>\n",
              "      <th>9</th>\n",
              "      <td>0.0</td>\n",
              "      <td>0.0</td>\n",
              "      <td>0.0</td>\n",
              "      <td>0.0</td>\n",
              "      <td>0.0</td>\n",
              "      <td>0.0</td>\n",
              "      <td>0.0</td>\n",
              "      <td>1.0</td>\n",
              "      <td>0.0</td>\n",
              "      <td>0.0</td>\n",
              "      <td>0.0</td>\n",
              "      <td>0.0</td>\n",
              "      <td>0.0</td>\n",
              "      <td>0.0</td>\n",
              "      <td>1.0</td>\n",
              "      <td>0.0</td>\n",
              "      <td>1.0</td>\n",
              "      <td>0.0</td>\n",
              "      <td>0.0</td>\n",
              "      <td>1.0</td>\n",
              "      <td>0.0</td>\n",
              "      <td>0.0</td>\n",
              "      <td>1.0</td>\n",
              "      <td>1.0</td>\n",
              "      <td>0.0</td>\n",
              "      <td>0.0</td>\n",
              "      <td>0.0</td>\n",
              "      <td>1.0</td>\n",
              "      <td>0.0</td>\n",
              "      <td>0.0</td>\n",
              "      <td>0.0</td>\n",
              "      <td>0.0</td>\n",
              "      <td>0.0</td>\n",
              "      <td>0.0</td>\n",
              "      <td>0.0</td>\n",
              "      <td>0.0</td>\n",
              "      <td>1.0</td>\n",
              "      <td>0.0</td>\n",
              "      <td>0.0</td>\n",
              "      <td>0.0</td>\n",
              "      <td>0.0</td>\n",
              "      <td>0.0</td>\n",
              "      <td>0.0</td>\n",
              "      <td>1.0</td>\n",
              "      <td>-1.110730</td>\n",
              "      <td>1.104237</td>\n",
              "      <td>-1.146986</td>\n",
              "      <td>0.180598</td>\n",
              "      <td>-0.481184</td>\n",
              "      <td>-0.36326</td>\n",
              "      <td>1</td>\n",
              "    </tr>\n",
              "  </tbody>\n",
              "</table>\n",
              "</div>"
            ],
            "text/plain": [
              "   job_admin.  job_blue-collar  job_entrepreneur  ...     pdays  previous  deposit\n",
              "0         1.0              0.0               0.0  ... -0.481184  -0.36326        1\n",
              "1         1.0              0.0               0.0  ... -0.481184  -0.36326        1\n",
              "2         0.0              0.0               0.0  ... -0.481184  -0.36326        1\n",
              "3         0.0              0.0               0.0  ... -0.481184  -0.36326        1\n",
              "4         1.0              0.0               0.0  ... -0.481184  -0.36326        1\n",
              "5         0.0              0.0               0.0  ... -0.481184  -0.36326        1\n",
              "6         0.0              0.0               0.0  ... -0.481184  -0.36326        1\n",
              "7         0.0              0.0               0.0  ... -0.481184  -0.36326        1\n",
              "8         0.0              0.0               0.0  ... -0.481184  -0.36326        1\n",
              "9         0.0              0.0               0.0  ... -0.481184  -0.36326        1\n",
              "\n",
              "[10 rows x 51 columns]"
            ]
          },
          "metadata": {},
          "execution_count": 6
        }
      ]
    },
    {
      "cell_type": "code",
      "source": [
        "# Select Features\n",
        "feature = df_bank_ready.drop('deposit', axis=1)\n",
        "\n",
        "# Select Target\n",
        "target = df_bank_ready['deposit']\n",
        "\n",
        "# Set Training and Testing Data\n",
        "from sklearn.model_selection import train_test_split\n",
        "X_train, X_test, y_train, y_test = train_test_split(feature , target, \n",
        "                                                    shuffle = True, \n",
        "                                                    test_size=0.2, \n",
        "                                                    random_state=1)\n",
        "\n",
        "# Show the Training and Testing Data\n",
        "print('Shape of training feature:', X_train.shape)\n",
        "print('Shape of testing feature:', X_test.shape)\n",
        "print('Shape of training label:', y_train.shape)\n",
        "print('Shape of training label:', y_test.shape)"
      ],
      "metadata": {
        "colab": {
          "base_uri": "https://localhost:8080/"
        },
        "id": "Ucglvbz1B8Su",
        "outputId": "e02626b5-5aae-4847-ce4d-23fa977a29b9"
      },
      "execution_count": 7,
      "outputs": [
        {
          "output_type": "stream",
          "name": "stdout",
          "text": [
            "Shape of training feature: (8929, 50)\n",
            "Shape of testing feature: (2233, 50)\n",
            "Shape of training label: (8929,)\n",
            "Shape of training label: (2233,)\n"
          ]
        }
      ]
    },
    {
      "cell_type": "code",
      "source": [
        "def evaluate_model(model, x_test, y_test):\n",
        "    from sklearn import metrics\n",
        "\n",
        "    # Predict Test Data \n",
        "    y_pred = model.predict(x_test)\n",
        "\n",
        "    # Calculate accuracy, precision, recall, f1-score, and kappa score\n",
        "    #Accuracy: the proportion of true results among the total number of cases examined\n",
        "    acc = metrics.accuracy_score(y_test, y_pred)\n",
        "    #Precision: used to calculate how much proportion of all data that was predicted positive was actually positive\n",
        "    prec = metrics.precision_score(y_test, y_pred)\n",
        "    #Recall: used to calculate how much proportion of actual positives is correctly classified\n",
        "    rec = metrics.recall_score(y_test, y_pred)\n",
        "    #F1 score: a number between 0 and 1 and is the harmonic mean of precision and recall ,F1 Score = 2*(Recall * Precision) / (Recall + Precision)\n",
        "    f1 = metrics.f1_score(y_test, y_pred)\n",
        "    #Cohen Kappa Score: Cohen's kappa measures the agreement between two raters who each classify N items into C mutually exclusive categories.\n",
        "    # K=(po−pe)/(1−pe) \n",
        "    #used to measure inter-rater reliability \n",
        "    #where  po  is the empirical probability of agreement on the label assigned to any sample (the observed agreement ratio\n",
        "    #   and  pe  is the expected agreement when both annotators assign labels randomly.  pe  is estimated using a per-annotator \n",
        "    #empirical prior over the class labels.\n",
        "\n",
        "\n",
        "\n",
        "    kappa = metrics.cohen_kappa_score(y_test, y_pred)\n",
        "\n",
        "    # Calculate area under curve (AUC)\n",
        "    # Area Under Curve (AUC): indicates how well the probabilities from the positive classes are separated from the negative classes\n",
        "    y_pred_proba = model.predict_proba(x_test)[::,1]\n",
        "    fpr, tpr, _ = metrics.roc_curve(y_test, y_pred_proba)\n",
        "    auc = metrics.roc_auc_score(y_test, y_pred_proba)\n",
        "\n",
        "    # Display confussion matrix\n",
        "    cm = metrics.confusion_matrix(y_test, y_pred)\n",
        "\n",
        "    return {'acc': acc, 'prec': prec, 'rec': rec, 'f1': f1, 'kappa': kappa, \n",
        "            'fpr': fpr, 'tpr': tpr, 'auc': auc, 'cm': cm}"
      ],
      "metadata": {
        "id": "rIK0Hv27CeAc"
      },
      "execution_count": 8,
      "outputs": []
    },
    {
      "cell_type": "code",
      "source": [
        "#####Decision TREE\n",
        "\n",
        "from sklearn import tree\n",
        "\n",
        "# Building Decision Tree model \n",
        "dtc = tree.DecisionTreeClassifier(criterion='gini', splitter='random', max_depth=6, min_samples_split=4,random_state=0) #“random” to choose the best random split\n",
        "# min_samples_split the minimum number of samples required to split\n",
        "dtc.fit(X_train, y_train)"
      ],
      "metadata": {
        "colab": {
          "base_uri": "https://localhost:8080/"
        },
        "id": "ahnaHwhGFIQr",
        "outputId": "364115fa-7560-42df-e6c0-5f13c914db6a"
      },
      "execution_count": 9,
      "outputs": [
        {
          "output_type": "execute_result",
          "data": {
            "text/plain": [
              "DecisionTreeClassifier(max_depth=6, min_samples_split=4, random_state=0,\n",
              "                       splitter='random')"
            ]
          },
          "metadata": {},
          "execution_count": 9
        }
      ]
    },
    {
      "cell_type": "code",
      "source": [
        "# Evaluate Model\n",
        "dtc_eval = evaluate_model(dtc, X_test, y_test)\n",
        "\n",
        "# Print result\n",
        "print('Accuracy:', dtc_eval['acc'])\n",
        "print('Precision:', dtc_eval['prec'])\n",
        "print('Recall:', dtc_eval['rec'])\n",
        "print('F1 Score:', dtc_eval['f1'])\n",
        "print('Cohens Kappa Score:', dtc_eval['kappa'])\n",
        "print('Area Under Curve:', dtc_eval['auc'])\n",
        "print('Confusion Matrix:\\n', dtc_eval['cm'])"
      ],
      "metadata": {
        "colab": {
          "base_uri": "https://localhost:8080/"
        },
        "id": "GEw64Do_FPrE",
        "outputId": "4f67db25-c7c0-4f90-ed6a-f6ad101ccd39"
      },
      "execution_count": 10,
      "outputs": [
        {
          "output_type": "stream",
          "name": "stdout",
          "text": [
            "Accuracy: 0.6892073443797582\n",
            "Precision: 0.7493333333333333\n",
            "Recall: 0.5262172284644194\n",
            "F1 Score: 0.6182618261826183\n",
            "Cohens Kappa Score: 0.3694231024327045\n",
            "Area Under Curve: 0.7411434473003167\n",
            "Confusion Matrix:\n",
            " [[977 188]\n",
            " [506 562]]\n"
          ]
        }
      ]
    },
    {
      "cell_type": "code",
      "source": [
        "##########Random Forest\n",
        "\n",
        "\n",
        "from sklearn.ensemble import RandomForestClassifier\n",
        "\n",
        "# Building Random Forest model \n",
        "rf = RandomForestClassifier(n_estimators =100, max_depth=12, \n",
        "                            random_state= 50) #criterion = gini par defaut\n",
        "rf.fit(X_train, y_train)\n",
        "\n"
      ],
      "metadata": {
        "colab": {
          "base_uri": "https://localhost:8080/"
        },
        "id": "-N0Qdu8TFkEE",
        "outputId": "7f9959b4-6aab-4471-e856-85338de23665"
      },
      "execution_count": 11,
      "outputs": [
        {
          "output_type": "execute_result",
          "data": {
            "text/plain": [
              "RandomForestClassifier(max_depth=12, random_state=50)"
            ]
          },
          "metadata": {},
          "execution_count": 11
        }
      ]
    },
    {
      "cell_type": "code",
      "source": [
        "# Evaluate Model\n",
        "rf_eval = evaluate_model(rf, X_test, y_test)\n",
        "\n",
        "# Print result\n",
        "print('Accuracy:', rf_eval['acc'])\n",
        "print('Precision:', rf_eval['prec'])\n",
        "print('Recall:', rf_eval['rec'])\n",
        "print('F1 Score:', rf_eval['f1'])\n",
        "print('Cohens Kappa Score:', rf_eval['kappa'])\n",
        "print('Area Under Curve:', rf_eval['auc'])\n",
        "print('Confusion Matrix:\\n', rf_eval['cm'])\n"
      ],
      "metadata": {
        "colab": {
          "base_uri": "https://localhost:8080/"
        },
        "id": "A5PxoI4oFrM6",
        "outputId": "2e0fb5c4-261c-4d40-da9c-70e00ab625b5"
      },
      "execution_count": 12,
      "outputs": [
        {
          "output_type": "stream",
          "name": "stdout",
          "text": [
            "Accuracy: 0.7218987908643081\n",
            "Precision: 0.7742331288343558\n",
            "Recall: 0.5908239700374532\n",
            "F1 Score: 0.6702071163037706\n",
            "Cohens Kappa Score: 0.437195680504761\n",
            "Area Under Curve: 0.7859108517786242\n",
            "Confusion Matrix:\n",
            " [[981 184]\n",
            " [437 631]]\n"
          ]
        }
      ]
    },
    {
      "cell_type": "code",
      "source": [
        "####LOGISTIC REGRESSION\n",
        "from sklearn.linear_model import LogisticRegression\n",
        "from sklearn import metrics\n",
        "\n",
        "logreg = LogisticRegression( C = 0.1,max_iter=100) # C :Inverse of regularization strength, default=1.0\n",
        "logreg.fit(X_train, y_train)"
      ],
      "metadata": {
        "colab": {
          "base_uri": "https://localhost:8080/"
        },
        "id": "aYGf5t5pJSey",
        "outputId": "74f15b9b-aead-4879-f85a-63cb9cde3082"
      },
      "execution_count": 13,
      "outputs": [
        {
          "output_type": "execute_result",
          "data": {
            "text/plain": [
              "LogisticRegression(C=0.1)"
            ]
          },
          "metadata": {},
          "execution_count": 13
        }
      ]
    },
    {
      "cell_type": "code",
      "source": [
        "# Evaluate Model\n",
        "nb_eval = evaluate_model(logreg, X_test, y_test)\n",
        "\n",
        "# Print result\n",
        "print('Accuracy:', nb_eval['acc'])\n",
        "print('Precision:', nb_eval['prec'])\n",
        "print('Recall:', nb_eval['rec'])\n",
        "print('F1 Score:', nb_eval['f1'])\n",
        "print('Cohens Kappa Score:', nb_eval['kappa'])\n",
        "print('Area Under Curve:', nb_eval['auc'])\n",
        "print('Confusion Matrix:\\n', nb_eval['cm'])\n",
        "\n"
      ],
      "metadata": {
        "colab": {
          "base_uri": "https://localhost:8080/"
        },
        "id": "jfHCYaSIJTR8",
        "outputId": "61018b2d-5492-4b51-928a-1d066fe12582"
      },
      "execution_count": 14,
      "outputs": [
        {
          "output_type": "stream",
          "name": "stdout",
          "text": [
            "Accuracy: 0.7048813255709807\n",
            "Precision: 0.7478787878787879\n",
            "Recall: 0.5777153558052435\n",
            "F1 Score: 0.6518753301637612\n",
            "Cohens Kappa Score: 0.40299180199840234\n",
            "Area Under Curve: 0.7661683625082382\n",
            "Confusion Matrix:\n",
            " [[957 208]\n",
            " [451 617]]\n"
          ]
        }
      ]
    },
    {
      "cell_type": "code",
      "source": [
        "###SVM \n",
        "from sklearn import svm\n",
        "svc = svm.SVC(kernel='rbf', C=70,gamma=0.001  ,probability=True).fit(X_train,y_train) # kernel type :kernel , C : Regularization parameter, \n",
        "# probability estimates :This must be enabled before using fit\n",
        "\n",
        "predictionsvm = svc.predict(X_test)\n",
        "from sklearn.metrics import classification_report\n",
        "print(classification_report(y_test,predictionsvm))\n",
        "\n",
        "# macro average (averaging the unweighted mean per label)\n",
        "#weighted average (averaging the support-weighted mean per label)\n"
      ],
      "metadata": {
        "colab": {
          "base_uri": "https://localhost:8080/"
        },
        "id": "nIuSFLslLGoe",
        "outputId": "165375ed-b918-4a66-b02c-30663ab513f3"
      },
      "execution_count": 15,
      "outputs": [
        {
          "output_type": "stream",
          "name": "stdout",
          "text": [
            "              precision    recall  f1-score   support\n",
            "\n",
            "           0       0.66      0.88      0.75      1165\n",
            "           1       0.79      0.50      0.61      1068\n",
            "\n",
            "    accuracy                           0.70      2233\n",
            "   macro avg       0.72      0.69      0.68      2233\n",
            "weighted avg       0.72      0.70      0.68      2233\n",
            "\n"
          ]
        }
      ]
    },
    {
      "cell_type": "code",
      "source": [
        "# Evaluate Model\n",
        "SVM_eval = evaluate_model(svc, X_test, y_test)\n",
        "\n",
        "# Print result\n",
        "#print('Accuracy:', SVM_eval['acc'])\n",
        "print('Precision:', SVM_eval['prec'])\n",
        "print('Recall:', SVM_eval['rec'])\n",
        "print('F1 Score:', SVM_eval['f1'])\n",
        "print('Cohens Kappa Score:', SVM_eval['kappa'])\n",
        "print('Area Under Curve:',SVM_eval['auc'])\n",
        "print('Confusion Matrix:\\n',SVM_eval['cm'])"
      ],
      "metadata": {
        "colab": {
          "base_uri": "https://localhost:8080/"
        },
        "id": "jZ_9XGPILVEd",
        "outputId": "9b06606e-2a8d-42f8-973f-92f817eb0334"
      },
      "execution_count": 16,
      "outputs": [
        {
          "output_type": "stream",
          "name": "stdout",
          "text": [
            "Precision: 0.7864506627393225\n",
            "Recall: 0.5\n",
            "F1 Score: 0.611333714939897\n",
            "Cohens Kappa Score: 0.3813185337945336\n",
            "Area Under Curve: 0.7712140939705197\n",
            "Confusion Matrix:\n",
            " [[1020  145]\n",
            " [ 534  534]]\n"
          ]
        }
      ]
    },
    {
      "cell_type": "code",
      "source": [
        "#####KNN\n",
        "from sklearn.neighbors import KNeighborsClassifier\n",
        "\n",
        "# Building KNN model \n",
        "knn = KNeighborsClassifier(n_neighbors=4,weights='uniform') #n_neighbors : Number of neighbors to use , weights='uniform': uniform weights:\n",
        "# All points in each neighborhood are weighted equally.\n",
        "knn.fit(X_train, y_train)"
      ],
      "metadata": {
        "colab": {
          "base_uri": "https://localhost:8080/"
        },
        "id": "cGl5IKjhGG2b",
        "outputId": "84fa0736-ef47-4722-ff51-cad2ec77f332"
      },
      "execution_count": 17,
      "outputs": [
        {
          "output_type": "execute_result",
          "data": {
            "text/plain": [
              "KNeighborsClassifier(n_neighbors=4)"
            ]
          },
          "metadata": {},
          "execution_count": 17
        }
      ]
    },
    {
      "cell_type": "code",
      "source": [
        "# Evaluate Model\n",
        "knn_eval = evaluate_model(knn, X_test, y_test)\n",
        "\n",
        "# Print result\n",
        "print('Accuracy:', knn_eval['acc'])\n",
        "print('Precision:', knn_eval['prec'])\n",
        "print('Recall:', knn_eval['rec'])\n",
        "print('F1 Score:', knn_eval['f1'])\n",
        "print('Cohens Kappa Score:', knn_eval['kappa'])\n",
        "print('Area Under Curve:', knn_eval['auc'])\n",
        "print('Confusion Matrix:\\n', knn_eval['cm'])"
      ],
      "metadata": {
        "colab": {
          "base_uri": "https://localhost:8080/"
        },
        "id": "XUvKHtzUGKvK",
        "outputId": "bd9809be-f7d8-4830-f2a6-c047af291fab"
      },
      "execution_count": 18,
      "outputs": [
        {
          "output_type": "stream",
          "name": "stdout",
          "text": [
            "Accuracy: 0.6730855351545006\n",
            "Precision: 0.7442196531791907\n",
            "Recall: 0.48220973782771537\n",
            "F1 Score: 0.5852272727272728\n",
            "Cohens Kappa Score: 0.33519116073292965\n",
            "Area Under Curve: 0.7276944591792449\n",
            "Confusion Matrix:\n",
            " [[988 177]\n",
            " [553 515]]\n"
          ]
        }
      ]
    },
    {
      "cell_type": "code",
      "source": [
        "# Intitialize figure with two plots\n",
        "fig, (ax1, ax2) = plt.subplots(1, 2)\n",
        "fig.suptitle('Comparaison des Modéles', fontsize=16, fontweight='bold')\n",
        "fig.set_figheight(7)\n",
        "fig.set_figwidth(14)\n",
        "fig.set_facecolor('white')\n",
        "\n",
        "# First plot\n",
        "## set bar size\n",
        "barWidth = 0.16\n",
        "dtc_score = [dtc_eval['acc'], dtc_eval['prec'], dtc_eval['rec'], dtc_eval['f1'], dtc_eval['kappa']]\n",
        "rf_score = [rf_eval['acc'], rf_eval['prec'], rf_eval['rec'], rf_eval['f1'], rf_eval['kappa']]\n",
        "nb_score = [nb_eval['acc'], nb_eval['prec'], nb_eval['rec'], nb_eval['f1'], nb_eval['kappa']]\n",
        "knn_score = [knn_eval['acc'], knn_eval['prec'], knn_eval['rec'], knn_eval['f1'], knn_eval['kappa']]\n",
        "svm_score=[SVM_eval['acc'],SVM_eval['prec'],SVM_eval['rec'],SVM_eval['f1'],SVM_eval['kappa']]\n",
        "## Set position of bar on X axis\n",
        "r1 = np.arange(len(dtc_score))\n",
        "r2 = [x + barWidth for x in r1]\n",
        "r3 = [x + barWidth for x in r2]\n",
        "r4 = [x + barWidth for x in r3]\n",
        "r5=[x+ barWidth for x in r4]\n",
        "## Make the plot\n",
        "ax1.bar(r1, dtc_score, width=barWidth, edgecolor='white', label='Decision Tree')\n",
        "ax1.bar(r2, rf_score, width=barWidth, edgecolor='white', label='Random Forest')\n",
        "ax1.bar(r3, nb_score, width=barWidth, edgecolor='white', label='Logistic Regression')\n",
        "ax1.bar(r4, knn_score, width=barWidth, edgecolor='white', label='K-Nearest Neighbors')\n",
        "ax1.bar(r5, svm_score, width=barWidth, edgecolor='white', label='SVM')\n",
        "\n",
        "## Configure x and y axis\n",
        "ax1.set_xlabel('Metrics', fontweight='bold')\n",
        "labels = ['Accuracy', 'Precision', 'Recall', 'F1', 'Kappa']\n",
        "ax1.set_xticks([r + (barWidth * 1.5) for r in range(len(dtc_score))], )\n",
        "ax1.set_xticklabels(labels)\n",
        "ax1.set_ylabel('Score', fontweight='bold')\n",
        "ax1.set_ylim(0, 1)\n",
        "\n",
        "## Create legend & title\n",
        "ax1.set_title('Indicateurs ', fontsize=14, fontweight='bold')\n",
        "ax1.legend()\n",
        "\n",
        "# Second plot\n",
        "## Comparing ROC Curve\n",
        "ax2.plot(dtc_eval['fpr'], dtc_eval['tpr'], label='Decision Tree, auc = {:0.5f}'.format(dtc_eval['auc']))\n",
        "ax2.plot(rf_eval['fpr'], rf_eval['tpr'], label='Random Forest, auc = {:0.5f}'.format(rf_eval['auc']))\n",
        "ax2.plot(nb_eval['fpr'], nb_eval['tpr'], label='Logistic Regression, auc = {:0.5f}'.format(nb_eval['auc']))\n",
        "ax2.plot(knn_eval['fpr'], knn_eval['tpr'], label='K-Nearest Nieghbor, auc = {:0.5f}'.format(knn_eval['auc']))\n",
        "ax2.plot(SVM_eval['fpr'], SVM_eval['tpr'], label='SVM, auc = {:0.5f}'.format(knn_eval['auc']))\n",
        "\n",
        "## Configure x and y axis\n",
        "ax2.set_xlabel('False Positive Rate', fontweight='bold')\n",
        "ax2.set_ylabel('True Positive Rate', fontweight='bold')\n",
        "\n",
        "## Create legend & title\n",
        "ax2.set_title('ROC Curve', fontsize=14, fontweight='bold')\n",
        "ax2.legend(loc=4)\n",
        "\n",
        "plt.show()"
      ],
      "metadata": {
        "colab": {
          "base_uri": "https://localhost:8080/",
          "height": 493
        },
        "id": "n__KDAy-GX9S",
        "outputId": "0af21b3a-4580-4b65-d43a-120fc917eaf0"
      },
      "execution_count": 19,
      "outputs": [
        {
          "output_type": "display_data",
          "data": {
            "image/png": "[encoded data removed]",
            "text/plain": [
              "<Figure size 1008x504 with 2 Axes>"
            ]
          },
          "metadata": {}
        }
      ]
    },
    {
      "cell_type": "code",
      "source": [
        "from imblearn.over_sampling import SMOTE\n",
        "from collections import Counter\n",
        "# define oversampling strategy\n",
        "SMOTE = SMOTE()\n",
        "\n",
        "# fit and apply the transform\n",
        "X_train_SMOTE, y_train_SMOTE = SMOTE.fit_resample(X_train, y_train)\n",
        "# summarize class distribution\n",
        "#A counter is a container that stores elements as dictionary keys, and their counts are stored as dictionary values\n",
        "\n",
        "print(\"before oversampling: \",Counter(X_train))\n",
        "print(\"After oversampling: \",Counter(X_train_SMOTE))\n",
        "print(\"before oversampling: \",Counter(y_train))\n",
        "print(\"After oversampling: \",Counter(y_train_SMOTE))"
      ],
      "metadata": {
        "colab": {
          "base_uri": "https://localhost:8080/"
        },
        "id": "__Dbu0M1AWKk",
        "outputId": "31b0299a-0094-4989-9f14-9a1ffb76b978"
      },
      "execution_count": 20,
      "outputs": [
        {
          "output_type": "stream",
          "name": "stdout",
          "text": [
            "before oversampling:  Counter({'job_admin.': 1, 'job_blue-collar': 1, 'job_entrepreneur': 1, 'job_housemaid': 1, 'job_management': 1, 'job_retired': 1, 'job_self-employed': 1, 'job_services': 1, 'job_student': 1, 'job_technician': 1, 'job_unemployed': 1, 'job_unknown': 1, 'marital_divorced': 1, 'marital_married': 1, 'marital_single': 1, 'education_primary': 1, 'education_secondary': 1, 'education_tertiary': 1, 'education_unknown': 1, 'default_no': 1, 'default_yes': 1, 'housing_no': 1, 'housing_yes': 1, 'loan_no': 1, 'loan_yes': 1, 'contact_cellular': 1, 'contact_telephone': 1, 'contact_unknown': 1, 'month_apr': 1, 'month_aug': 1, 'month_dec': 1, 'month_feb': 1, 'month_jan': 1, 'month_jul': 1, 'month_jun': 1, 'month_mar': 1, 'month_may': 1, 'month_nov': 1, 'month_oct': 1, 'month_sep': 1, 'poutcome_failure': 1, 'poutcome_other': 1, 'poutcome_success': 1, 'poutcome_unknown': 1, 'age': 1, 'balance': 1, 'day': 1, 'campaign': 1, 'pdays': 1, 'previous': 1})\n",
            "After oversampling:  Counter({'job_admin.': 1, 'job_blue-collar': 1, 'job_entrepreneur': 1, 'job_housemaid': 1, 'job_management': 1, 'job_retired': 1, 'job_self-employed': 1, 'job_services': 1, 'job_student': 1, 'job_technician': 1, 'job_unemployed': 1, 'job_unknown': 1, 'marital_divorced': 1, 'marital_married': 1, 'marital_single': 1, 'education_primary': 1, 'education_secondary': 1, 'education_tertiary': 1, 'education_unknown': 1, 'default_no': 1, 'default_yes': 1, 'housing_no': 1, 'housing_yes': 1, 'loan_no': 1, 'loan_yes': 1, 'contact_cellular': 1, 'contact_telephone': 1, 'contact_unknown': 1, 'month_apr': 1, 'month_aug': 1, 'month_dec': 1, 'month_feb': 1, 'month_jan': 1, 'month_jul': 1, 'month_jun': 1, 'month_mar': 1, 'month_may': 1, 'month_nov': 1, 'month_oct': 1, 'month_sep': 1, 'poutcome_failure': 1, 'poutcome_other': 1, 'poutcome_success': 1, 'poutcome_unknown': 1, 'age': 1, 'balance': 1, 'day': 1, 'campaign': 1, 'pdays': 1, 'previous': 1})\n",
            "before oversampling:  Counter({0: 4708, 1: 4221})\n",
            "After oversampling:  Counter({0: 4708, 1: 4708})\n"
          ]
        }
      ]
    },
    {
      "cell_type": "code",
      "source": [
        "##########Random Forest\n",
        "\n",
        "\n",
        "from sklearn.ensemble import RandomForestClassifier\n",
        "\n",
        "# Building Random Forest model \n",
        "rf = RandomForestClassifier(n_estimators =100, max_depth=12, \n",
        "                            random_state= 50)\n",
        "rf.fit(X_train_SMOTE, y_train_SMOTE)"
      ],
      "metadata": {
        "colab": {
          "base_uri": "https://localhost:8080/"
        },
        "id": "94DUOBnhJ4qZ",
        "outputId": "fab4dfa5-c926-4d45-d7dd-f587f7467ceb"
      },
      "execution_count": 21,
      "outputs": [
        {
          "output_type": "execute_result",
          "data": {
            "text/plain": [
              "RandomForestClassifier(max_depth=12, random_state=50)"
            ]
          },
          "metadata": {},
          "execution_count": 21
        }
      ]
    },
    {
      "cell_type": "code",
      "source": [
        "# Evaluate Model\n",
        "rf_eval = evaluate_model(rf, X_test, y_test)\n",
        "\n",
        "# Print result\n",
        "print('Accuracy:', rf_eval['acc'])\n",
        "print('Precision:', rf_eval['prec'])\n",
        "print('Recall:', rf_eval['rec'])\n",
        "print('F1 Score:', rf_eval['f1'])\n",
        "print('Cohens Kappa Score:', rf_eval['kappa'])\n",
        "print('Area Under Curve:', rf_eval['auc'])\n",
        "print('Confusion Matrix:\\n', rf_eval['cm'])\n",
        "\n",
        "#before Oversampling with smote\n",
        "#Accuracy: 0.7218987908643081\n",
        "#Precision: 0.7742331288343558\n",
        "#Recall: 0.5908239700374532              \n",
        "#F1 Score: 0.6702071163037706\n",
        "#Cohens Kappa Score: 0.437195680504761\n",
        "#Area Under Curve: 0.7859108517786242\n",
        "#Confusion Matrix:\n",
        "# [[981 184]\n",
        "# [437 631]]"
      ],
      "metadata": {
        "colab": {
          "base_uri": "https://localhost:8080/"
        },
        "id": "vhIrDdPIKC5L",
        "outputId": "e067f7ba-f94b-4fa8-8b2a-a49af9b1092e"
      },
      "execution_count": 22,
      "outputs": [
        {
          "output_type": "stream",
          "name": "stdout",
          "text": [
            "Accuracy: 0.7232422749664129\n",
            "Precision: 0.7551020408163265\n",
            "Recall: 0.6235955056179775\n",
            "F1 Score: 0.6830769230769231\n",
            "Cohens Kappa Score: 0.44138798687498937\n",
            "Area Under Curve: 0.7843789683496487\n",
            "Confusion Matrix:\n",
            " [[949 216]\n",
            " [402 666]]\n"
          ]
        }
      ]
    },
    {
      "cell_type": "code",
      "source": [
        "\n",
        "\n",
        "# import SVM libraries \n",
        "from sklearn.svm import SVC\n",
        "from sklearn.metrics import classification_report, roc_auc_score\n",
        "\n",
        "model=SVC()\n",
        "clf_SMOTE = model.fit(X_train_SMOTE, y_train_SMOTE)\n",
        "pred_SMOTE = clf_SMOTE.predict(X_test)\n",
        "\n",
        "print(\"ROC AUC score after oversampled SMOTE data: \", roc_auc_score(y_test, pred_SMOTE))\n",
        "print('Area Under Curve before oversampled smote',SVM_eval['auc'])"
      ],
      "metadata": {
        "colab": {
          "base_uri": "https://localhost:8080/"
        },
        "id": "-KDZ7xZuAurI",
        "outputId": "f8a741fa-7c51-4e5d-b0f6-5a5501a88aaa"
      },
      "execution_count": 23,
      "outputs": [
        {
          "output_type": "stream",
          "name": "stdout",
          "text": [
            "ROC AUC score after oversampled SMOTE data:  0.7317355451608236\n",
            "Area Under Curve before oversampled smote 0.7712140939705197\n"
          ]
        }
      ]
    },
    {
      "cell_type": "code",
      "source": [
        "###SVM \n",
        "from sklearn import svm\n",
        "svc = svm.SVC(kernel='rbf', C=70, gamma=0.001,probability=True).fit(X_train_SMOTE,y_train_SMOTE)\n",
        "predictionsvm = svc.predict(X_test)\n",
        "from sklearn.metrics import classification_report\n",
        "print(classification_report(y_test,predictionsvm))"
      ],
      "metadata": {
        "colab": {
          "base_uri": "https://localhost:8080/"
        },
        "id": "5mgoOCi_BJHd",
        "outputId": "7e6f949e-708b-4b04-f4a8-4f78bf52c107"
      },
      "execution_count": 24,
      "outputs": [
        {
          "output_type": "stream",
          "name": "stdout",
          "text": [
            "              precision    recall  f1-score   support\n",
            "\n",
            "           0       0.68      0.85      0.75      1165\n",
            "           1       0.77      0.56      0.65      1068\n",
            "\n",
            "    accuracy                           0.71      2233\n",
            "   macro avg       0.72      0.70      0.70      2233\n",
            "weighted avg       0.72      0.71      0.70      2233\n",
            "\n"
          ]
        }
      ]
    },
    {
      "cell_type": "code",
      "source": [
        "# Evaluate Model\n",
        "SVM_eval = evaluate_model(svc, X_test,y_test)\n",
        "\n",
        "# Print result\n",
        "#print('Accuracy:', SVM_eval['acc'])\n",
        "print('Precision:', SVM_eval['prec'])\n",
        "print('Recall:', SVM_eval['rec'])\n",
        "print('F1 Score:', SVM_eval['f1'])\n",
        "print('Cohens Kappa Score:', SVM_eval['kappa'])\n",
        "print('Area Under Curve:',SVM_eval['auc'])\n",
        "print('Confusion Matrix:\\n',SVM_eval['cm'])\n",
        "\n",
        "#before\n",
        "#Precision: 0.7864506627393225\n",
        "#Recall: 0.5\n",
        "#F1 Score: 0.611333714939897\n",
        "#Cohens Kappa Score: 0.3813185337945336\n",
        "#Area Under Curve: 0.7712253459999037\n",
        "#Confusion Matrix:\n",
        "# [[1020  145]\n",
        "# [ 534  534]]"
      ],
      "metadata": {
        "colab": {
          "base_uri": "https://localhost:8080/"
        },
        "id": "-P3NaXt9CRRh",
        "outputId": "b12b6179-2873-413c-81b2-704be1b3000e"
      },
      "execution_count": 25,
      "outputs": [
        {
          "output_type": "stream",
          "name": "stdout",
          "text": [
            "Precision: 0.7713178294573644\n",
            "Recall: 0.5589887640449438\n",
            "F1 Score: 0.6482084690553745\n",
            "Cohens Kappa Score: 0.41177647096127434\n",
            "Area Under Curve: 0.7710690231631062\n",
            "Confusion Matrix:\n",
            " [[988 177]\n",
            " [471 597]]\n"
          ]
        }
      ]
    },
    {
      "cell_type": "code",
      "source": [
        "####LOGISTIC REGRESSION\n",
        "from sklearn.linear_model import LogisticRegression\n",
        "from sklearn import metrics\n",
        "\n",
        "logreg = LogisticRegression( C = 0.1,max_iter=100)\n",
        "logreg.fit(X_train_SMOTE, y_train_SMOTE)"
      ],
      "metadata": {
        "colab": {
          "base_uri": "https://localhost:8080/"
        },
        "id": "sF9aof1ixC3A",
        "outputId": "7cffd6ed-c421-4041-d2d2-9b1d08f7aada"
      },
      "execution_count": 26,
      "outputs": [
        {
          "output_type": "execute_result",
          "data": {
            "text/plain": [
              "LogisticRegression(C=0.1)"
            ]
          },
          "metadata": {},
          "execution_count": 26
        }
      ]
    },
    {
      "cell_type": "code",
      "source": [
        "# Evaluate Model\n",
        "\n",
        "nb_eval = evaluate_model(logreg, X_test, y_test)\n",
        "\n",
        "# Print result\n",
        "print('Accuracy:', nb_eval['acc'])\n",
        "print('Precision:', nb_eval['prec'])\n",
        "print('Recall:', nb_eval['rec'])\n",
        "print('F1 Score:', nb_eval['f1'])\n",
        "print('Cohens Kappa Score:', nb_eval['kappa'])\n",
        "print('Area Under Curve:', nb_eval['auc'])\n",
        "print('Confusion Matrix:\\n', nb_eval['cm'])\n",
        "\n",
        "\n",
        "#before\n",
        "#Accuracy: 0.7048813255709807\n",
        "#Precision: 0.7478787878787879\n",
        "#Recall: 0.5777153558052435\n",
        "#F1 Score: 0.6518753301637612\n",
        "#Cohens Kappa Score: 0.40299180199840234\n",
        "#Area Under Curve: 0.7661683625082382\n",
        "#Confusion Matrix:\n",
        "# [[957 208]\n",
        "# [451 617]]"
      ],
      "metadata": {
        "colab": {
          "base_uri": "https://localhost:8080/"
        },
        "id": "qh31FZqCxR5q",
        "outputId": "7e9554cc-9c54-4be3-9c61-5b67027faf49"
      },
      "execution_count": 27,
      "outputs": [
        {
          "output_type": "stream",
          "name": "stdout",
          "text": [
            "Accuracy: 0.7039856695029109\n",
            "Precision: 0.7190527448869752\n",
            "Recall: 0.6254681647940075\n",
            "F1 Score: 0.6690035052578868\n",
            "Cohens Kappa Score: 0.4036207497746426\n",
            "Area Under Curve: 0.7660068155149411\n",
            "Confusion Matrix:\n",
            " [[904 261]\n",
            " [400 668]]\n"
          ]
        }
      ]
    },
    {
      "cell_type": "code",
      "source": [
        ""
      ],
      "metadata": {
        "id": "pj6CcS3NxGck"
      },
      "execution_count": null,
      "outputs": []
    }
  ]
}